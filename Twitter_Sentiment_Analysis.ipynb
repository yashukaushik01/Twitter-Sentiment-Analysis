{
  "nbformat": 4,
  "nbformat_minor": 0,
  "metadata": {
    "colab": {
      "name": "Twitter Sentiment Analysis.ipynb",
      "provenance": [],
      "collapsed_sections": [],
      "include_colab_link": true
    },
    "kernelspec": {
      "name": "python3",
      "display_name": "Python 3"
    },
    "language_info": {
      "name": "python"
    }
  },
  "cells": [
    {
      "cell_type": "markdown",
      "metadata": {
        "id": "view-in-github",
        "colab_type": "text"
      },
      "source": [
        "<a href=\"https://colab.research.google.com/github/yashukaushik01/Twitter-Sentiment-Analysis/blob/main/Twitter_Sentiment_Analysis.ipynb\" target=\"_parent\"><img src=\"https://colab.research.google.com/assets/colab-badge.svg\" alt=\"Open In Colab\"/></a>"
      ]
    },
    {
      "cell_type": "markdown",
      "metadata": {
        "id": "6f-VQZkFA_B4"
      },
      "source": [
        "\n",
        "# **Twitter Sentiment Analysis**\n",
        "\n",
        "---\n"
      ]
    },
    {
      "cell_type": "code",
      "metadata": {
        "id": "LPKj-30784F7"
      },
      "source": [
        "#@title Import Libraries\n",
        "import tweepy\n",
        "from textblob import TextBlob\n",
        "from wordcloud import WordCloud\n",
        "import pandas as pd\n",
        "import numpy as np\n",
        "import re\n",
        "import matplotlib.pyplot as plt\n",
        "plt.style.use('fivethirtyeight')"
      ],
      "execution_count": null,
      "outputs": []
    },
    {
      "cell_type": "code",
      "metadata": {
        "id": "PqLjDSL2Fo4F"
      },
      "source": [
        "#@title Making Tweepy Object\n",
        "accessToken = '853589383831851010-S1G2nVWzD471mPciMJOmZGHWeV1pJle'\n",
        "accessTokenSecret = 'O09HnlrFsl94uEYOZ3KnCOSSvHlN8kIv0iTiP1aHz5ZDk'\n",
        "authenticate = tweepy.OAuthHandler(consumer_key='qm2SB0EhIWfDeVMVatmc3r0Y7', consumer_secret='MuFjZj4Viy3SDbyUxTjcB1C3hlkZawRrUPTMyBsGYeXIqOko6z')\n",
        "authenticate.set_access_token(accessToken, accessTokenSecret)\n",
        "api = tweepy.API(authenticate, wait_on_rate_limit = True)"
      ],
      "execution_count": null,
      "outputs": []
    },
    {
      "cell_type": "code",
      "metadata": {
        "colab": {
          "base_uri": "https://localhost:8080/"
        },
        "id": "OUF1C_6OGXTw",
        "outputId": "140cb0bc-ee91-4a12-c2ac-d45095bf56ff"
      },
      "source": [
        "#@title Extracting Tweets\n",
        "# Extract 100 tweets from twitter user\n",
        "posts = api.user_timeline(screen_name = \"JoeBiden\", count = 200, lang = \"en\", tweet_mode = \"extended\")\n",
        "i = 1\n",
        "for tweet in posts[0:5]:\n",
        "  print(str(i) + ') ' + tweet.full_text + '\\n')\n",
        "  i = i + 1"
      ],
      "execution_count": null,
      "outputs": [
        {
          "output_type": "stream",
          "text": [
            "1) Since the beginning of our administration, the economy has added more than 1.5 million jobs. \n",
            "\n",
            "We’ve still got work to do, but America is moving in the right direction. https://t.co/B0bNPXNSKe\n",
            "\n",
            "2) RT @POTUS: Tune in as I discuss the April jobs report. https://t.co/BUZiB5w1gj\n",
            "\n",
            "3) RT @WhiteHouse: This week we launched the Restaurant Revitalization Fund to provide direct relief to restaurants and other hard-hit food es…\n",
            "\n",
            "4) RT @POTUS: If we want our economy to recover in a way that deals everyone in, then our restaurants need a seat at the table — with the Amer…\n",
            "\n",
            "5) RT @POTUS: Our goal by July 4th is to have 70% of adult Americans with at least one shot — and 160 million Americans fully vaccinated. It’s…\n",
            "\n"
          ],
          "name": "stdout"
        }
      ]
    },
    {
      "cell_type": "code",
      "metadata": {
        "colab": {
          "base_uri": "https://localhost:8080/",
          "height": 204
        },
        "id": "rsJYeemnKFWL",
        "outputId": "74cb39f8-3e6a-4791-fc97-c44d35654de6"
      },
      "source": [
        "#@title Head of DataFrame\n",
        "# Create a dataframe with a column called tweets\n",
        "df = pd.DataFrame([tweet.full_text for tweet in posts], columns = ['Tweets'])\n",
        "df.head()"
      ],
      "execution_count": null,
      "outputs": [
        {
          "output_type": "execute_result",
          "data": {
            "text/html": [
              "<div>\n",
              "<style scoped>\n",
              "    .dataframe tbody tr th:only-of-type {\n",
              "        vertical-align: middle;\n",
              "    }\n",
              "\n",
              "    .dataframe tbody tr th {\n",
              "        vertical-align: top;\n",
              "    }\n",
              "\n",
              "    .dataframe thead th {\n",
              "        text-align: right;\n",
              "    }\n",
              "</style>\n",
              "<table border=\"1\" class=\"dataframe\">\n",
              "  <thead>\n",
              "    <tr style=\"text-align: right;\">\n",
              "      <th></th>\n",
              "      <th>Tweets</th>\n",
              "    </tr>\n",
              "  </thead>\n",
              "  <tbody>\n",
              "    <tr>\n",
              "      <th>0</th>\n",
              "      <td>Since the beginning of our administration, the...</td>\n",
              "    </tr>\n",
              "    <tr>\n",
              "      <th>1</th>\n",
              "      <td>RT @POTUS: Tune in as I discuss the April jobs...</td>\n",
              "    </tr>\n",
              "    <tr>\n",
              "      <th>2</th>\n",
              "      <td>RT @WhiteHouse: This week we launched the Rest...</td>\n",
              "    </tr>\n",
              "    <tr>\n",
              "      <th>3</th>\n",
              "      <td>RT @POTUS: If we want our economy to recover i...</td>\n",
              "    </tr>\n",
              "    <tr>\n",
              "      <th>4</th>\n",
              "      <td>RT @POTUS: Our goal by July 4th is to have 70%...</td>\n",
              "    </tr>\n",
              "  </tbody>\n",
              "</table>\n",
              "</div>"
            ],
            "text/plain": [
              "                                              Tweets\n",
              "0  Since the beginning of our administration, the...\n",
              "1  RT @POTUS: Tune in as I discuss the April jobs...\n",
              "2  RT @WhiteHouse: This week we launched the Rest...\n",
              "3  RT @POTUS: If we want our economy to recover i...\n",
              "4  RT @POTUS: Our goal by July 4th is to have 70%..."
            ]
          },
          "metadata": {
            "tags": []
          },
          "execution_count": 18
        }
      ]
    },
    {
      "cell_type": "code",
      "metadata": {
        "colab": {
          "base_uri": "https://localhost:8080/",
          "height": 419
        },
        "id": "-rZfakapLTIo",
        "outputId": "0bceb308-6e10-4f84-fbfd-cbf7d3fd9c5d"
      },
      "source": [
        "#@title Cleaning the Tweet Data\n",
        "# Cleaning the text\n",
        "def cleanText(text):\n",
        "  text = re.sub(r'@[A-Za-z0-9]+', '', text) \n",
        "  text = re.sub(r'#', '', text)\n",
        "  text = re.sub(r'RT[\\s]:', '', text)\n",
        "  text = re.sub(r'https?:\\/\\/\\S+', '', text)\n",
        "  return text\n",
        "\n",
        "df['Tweets'] = df['Tweets'].apply(cleanText)\n",
        "\n",
        "df"
      ],
      "execution_count": null,
      "outputs": [
        {
          "output_type": "execute_result",
          "data": {
            "text/html": [
              "<div>\n",
              "<style scoped>\n",
              "    .dataframe tbody tr th:only-of-type {\n",
              "        vertical-align: middle;\n",
              "    }\n",
              "\n",
              "    .dataframe tbody tr th {\n",
              "        vertical-align: top;\n",
              "    }\n",
              "\n",
              "    .dataframe thead th {\n",
              "        text-align: right;\n",
              "    }\n",
              "</style>\n",
              "<table border=\"1\" class=\"dataframe\">\n",
              "  <thead>\n",
              "    <tr style=\"text-align: right;\">\n",
              "      <th></th>\n",
              "      <th>Tweets</th>\n",
              "    </tr>\n",
              "  </thead>\n",
              "  <tbody>\n",
              "    <tr>\n",
              "      <th>0</th>\n",
              "      <td>Since the beginning of our administration, the...</td>\n",
              "    </tr>\n",
              "    <tr>\n",
              "      <th>1</th>\n",
              "      <td>Tune in as I discuss the April jobs report.</td>\n",
              "    </tr>\n",
              "    <tr>\n",
              "      <th>2</th>\n",
              "      <td>This week we launched the Restaurant Revitali...</td>\n",
              "    </tr>\n",
              "    <tr>\n",
              "      <th>3</th>\n",
              "      <td>If we want our economy to recover in a way th...</td>\n",
              "    </tr>\n",
              "    <tr>\n",
              "      <th>4</th>\n",
              "      <td>Our goal by July 4th is to have 70% of adult ...</td>\n",
              "    </tr>\n",
              "    <tr>\n",
              "      <th>...</th>\n",
              "      <td>...</td>\n",
              "    </tr>\n",
              "    <tr>\n",
              "      <th>195</th>\n",
              "      <td>Tonight, in Washington, D.C. and across the na...</td>\n",
              "    </tr>\n",
              "    <tr>\n",
              "      <th>196</th>\n",
              "      <td>We don’t have a second to waste when it comes ...</td>\n",
              "    </tr>\n",
              "    <tr>\n",
              "      <th>197</th>\n",
              "      <td>Join us for a national moment of unity and rem...</td>\n",
              "    </tr>\n",
              "    <tr>\n",
              "      <th>198</th>\n",
              "      <td>Next stop: Washington, D.C.</td>\n",
              "    </tr>\n",
              "    <tr>\n",
              "      <th>199</th>\n",
              "      <td>I’m in Delaware for one final event before I h...</td>\n",
              "    </tr>\n",
              "  </tbody>\n",
              "</table>\n",
              "<p>200 rows × 1 columns</p>\n",
              "</div>"
            ],
            "text/plain": [
              "                                                Tweets\n",
              "0    Since the beginning of our administration, the...\n",
              "1         Tune in as I discuss the April jobs report. \n",
              "2     This week we launched the Restaurant Revitali...\n",
              "3     If we want our economy to recover in a way th...\n",
              "4     Our goal by July 4th is to have 70% of adult ...\n",
              "..                                                 ...\n",
              "195  Tonight, in Washington, D.C. and across the na...\n",
              "196  We don’t have a second to waste when it comes ...\n",
              "197  Join us for a national moment of unity and rem...\n",
              "198                       Next stop: Washington, D.C. \n",
              "199  I’m in Delaware for one final event before I h...\n",
              "\n",
              "[200 rows x 1 columns]"
            ]
          },
          "metadata": {
            "tags": []
          },
          "execution_count": 19
        }
      ]
    },
    {
      "cell_type": "code",
      "metadata": {
        "colab": {
          "base_uri": "https://localhost:8080/",
          "height": 419
        },
        "id": "L2aprNDONTBQ",
        "cellView": "form",
        "outputId": "bad50e98-26fc-4d39-88cd-a405c2801983"
      },
      "source": [
        "#@title Get Subjectivity and Polarity of Tweets\n",
        "# create function to get the subjectivity\n",
        "def getSubjectivity(text):\n",
        "  return TextBlob(text).sentiment.subjectivity\n",
        "\n",
        "# create function to get the polarity\n",
        "def getPolarity(text):\n",
        "  return TextBlob(text).sentiment.polarity\n",
        "\n",
        "# Create two new columns\n",
        "df['Subjectivity'] = df['Tweets'].apply(getSubjectivity)\n",
        "df['Polarity'] = df['Tweets'].apply(getPolarity)\n",
        "\n",
        "df\n"
      ],
      "execution_count": null,
      "outputs": [
        {
          "output_type": "execute_result",
          "data": {
            "text/html": [
              "<div>\n",
              "<style scoped>\n",
              "    .dataframe tbody tr th:only-of-type {\n",
              "        vertical-align: middle;\n",
              "    }\n",
              "\n",
              "    .dataframe tbody tr th {\n",
              "        vertical-align: top;\n",
              "    }\n",
              "\n",
              "    .dataframe thead th {\n",
              "        text-align: right;\n",
              "    }\n",
              "</style>\n",
              "<table border=\"1\" class=\"dataframe\">\n",
              "  <thead>\n",
              "    <tr style=\"text-align: right;\">\n",
              "      <th></th>\n",
              "      <th>Tweets</th>\n",
              "      <th>Subjectivity</th>\n",
              "      <th>Polarity</th>\n",
              "    </tr>\n",
              "  </thead>\n",
              "  <tbody>\n",
              "    <tr>\n",
              "      <th>0</th>\n",
              "      <td>Since the beginning of our administration, the...</td>\n",
              "      <td>0.517857</td>\n",
              "      <td>0.392857</td>\n",
              "    </tr>\n",
              "    <tr>\n",
              "      <th>1</th>\n",
              "      <td>Tune in as I discuss the April jobs report.</td>\n",
              "      <td>0.000000</td>\n",
              "      <td>0.000000</td>\n",
              "    </tr>\n",
              "    <tr>\n",
              "      <th>2</th>\n",
              "      <td>This week we launched the Restaurant Revitali...</td>\n",
              "      <td>0.387500</td>\n",
              "      <td>-0.012500</td>\n",
              "    </tr>\n",
              "    <tr>\n",
              "      <th>3</th>\n",
              "      <td>If we want our economy to recover in a way th...</td>\n",
              "      <td>0.000000</td>\n",
              "      <td>0.000000</td>\n",
              "    </tr>\n",
              "    <tr>\n",
              "      <th>4</th>\n",
              "      <td>Our goal by July 4th is to have 70% of adult ...</td>\n",
              "      <td>0.350000</td>\n",
              "      <td>-0.100000</td>\n",
              "    </tr>\n",
              "    <tr>\n",
              "      <th>...</th>\n",
              "      <td>...</td>\n",
              "      <td>...</td>\n",
              "      <td>...</td>\n",
              "    </tr>\n",
              "    <tr>\n",
              "      <th>195</th>\n",
              "      <td>Tonight, in Washington, D.C. and across the na...</td>\n",
              "      <td>0.066667</td>\n",
              "      <td>0.000000</td>\n",
              "    </tr>\n",
              "    <tr>\n",
              "      <th>196</th>\n",
              "      <td>We don’t have a second to waste when it comes ...</td>\n",
              "      <td>0.178571</td>\n",
              "      <td>0.028571</td>\n",
              "    </tr>\n",
              "    <tr>\n",
              "      <th>197</th>\n",
              "      <td>Join us for a national moment of unity and rem...</td>\n",
              "      <td>0.375000</td>\n",
              "      <td>-0.125000</td>\n",
              "    </tr>\n",
              "    <tr>\n",
              "      <th>198</th>\n",
              "      <td>Next stop: Washington, D.C.</td>\n",
              "      <td>0.000000</td>\n",
              "      <td>0.000000</td>\n",
              "    </tr>\n",
              "    <tr>\n",
              "      <th>199</th>\n",
              "      <td>I’m in Delaware for one final event before I h...</td>\n",
              "      <td>1.000000</td>\n",
              "      <td>0.000000</td>\n",
              "    </tr>\n",
              "  </tbody>\n",
              "</table>\n",
              "<p>200 rows × 3 columns</p>\n",
              "</div>"
            ],
            "text/plain": [
              "                                                Tweets  Subjectivity  Polarity\n",
              "0    Since the beginning of our administration, the...      0.517857  0.392857\n",
              "1         Tune in as I discuss the April jobs report.       0.000000  0.000000\n",
              "2     This week we launched the Restaurant Revitali...      0.387500 -0.012500\n",
              "3     If we want our economy to recover in a way th...      0.000000  0.000000\n",
              "4     Our goal by July 4th is to have 70% of adult ...      0.350000 -0.100000\n",
              "..                                                 ...           ...       ...\n",
              "195  Tonight, in Washington, D.C. and across the na...      0.066667  0.000000\n",
              "196  We don’t have a second to waste when it comes ...      0.178571  0.028571\n",
              "197  Join us for a national moment of unity and rem...      0.375000 -0.125000\n",
              "198                       Next stop: Washington, D.C.       0.000000  0.000000\n",
              "199  I’m in Delaware for one final event before I h...      1.000000  0.000000\n",
              "\n",
              "[200 rows x 3 columns]"
            ]
          },
          "metadata": {
            "tags": []
          },
          "execution_count": 20
        }
      ]
    },
    {
      "cell_type": "code",
      "metadata": {
        "colab": {
          "base_uri": "https://localhost:8080/",
          "height": 265
        },
        "id": "TMZ1lF-4O7f0",
        "cellView": "form",
        "outputId": "8d61d2dd-1c17-4838-8c75-0fca50498f70"
      },
      "source": [
        "#@title Word Cloud\n",
        "# plotting word cloud\n",
        "allWords = ' '.join( [twts for twts in df['Tweets']] )\n",
        "wordCloud = WordCloud(width = 500, height = 300, random_state = 21, max_font_size = 119).generate(allWords)\n",
        "plt.imshow(wordCloud, interpolation = 'bilinear')\n",
        "plt.axis('off')\n",
        "plt.show"
      ],
      "execution_count": null,
      "outputs": [
        {
          "output_type": "execute_result",
          "data": {
            "text/plain": [
              "<function matplotlib.pyplot.show>"
            ]
          },
          "metadata": {
            "tags": []
          },
          "execution_count": 21
        },
        {
          "output_type": "display_data",
          "data": {
            "image/png": "[encoded data removed]",
            "text/plain": [
              "<Figure size 432x288 with 1 Axes>"
            ]
          },
          "metadata": {
            "tags": [],
            "needs_background": "light"
          }
        }
      ]
    },
    {
      "cell_type": "code",
      "metadata": {
        "colab": {
          "base_uri": "https://localhost:8080/",
          "height": 419
        },
        "id": "o9TrF1yyTKX8",
        "cellView": "form",
        "outputId": "34ac5c56-cc36-4128-9790-d0c27c0a1a4b"
      },
      "source": [
        "#@title Analysis\n",
        "# create a function to compute negative, neutral and positive analysis\n",
        "def getAnalysis(score):\n",
        "  if score < 0:\n",
        "    return 'Negative'\n",
        "  elif score == 0:\n",
        "    return 'Neutral'\n",
        "  else:\n",
        "    return 'Positive'\n",
        "\n",
        "df['Analysis'] = df['Polarity'].apply(getAnalysis)\n",
        "\n",
        "df"
      ],
      "execution_count": null,
      "outputs": [
        {
          "output_type": "execute_result",
          "data": {
            "text/html": [
              "<div>\n",
              "<style scoped>\n",
              "    .dataframe tbody tr th:only-of-type {\n",
              "        vertical-align: middle;\n",
              "    }\n",
              "\n",
              "    .dataframe tbody tr th {\n",
              "        vertical-align: top;\n",
              "    }\n",
              "\n",
              "    .dataframe thead th {\n",
              "        text-align: right;\n",
              "    }\n",
              "</style>\n",
              "<table border=\"1\" class=\"dataframe\">\n",
              "  <thead>\n",
              "    <tr style=\"text-align: right;\">\n",
              "      <th></th>\n",
              "      <th>Tweets</th>\n",
              "      <th>Subjectivity</th>\n",
              "      <th>Polarity</th>\n",
              "      <th>Analysis</th>\n",
              "    </tr>\n",
              "  </thead>\n",
              "  <tbody>\n",
              "    <tr>\n",
              "      <th>0</th>\n",
              "      <td>Since the beginning of our administration, the...</td>\n",
              "      <td>0.517857</td>\n",
              "      <td>0.392857</td>\n",
              "      <td>Positive</td>\n",
              "    </tr>\n",
              "    <tr>\n",
              "      <th>1</th>\n",
              "      <td>Tune in as I discuss the April jobs report.</td>\n",
              "      <td>0.000000</td>\n",
              "      <td>0.000000</td>\n",
              "      <td>Neutral</td>\n",
              "    </tr>\n",
              "    <tr>\n",
              "      <th>2</th>\n",
              "      <td>This week we launched the Restaurant Revitali...</td>\n",
              "      <td>0.387500</td>\n",
              "      <td>-0.012500</td>\n",
              "      <td>Negative</td>\n",
              "    </tr>\n",
              "    <tr>\n",
              "      <th>3</th>\n",
              "      <td>If we want our economy to recover in a way th...</td>\n",
              "      <td>0.000000</td>\n",
              "      <td>0.000000</td>\n",
              "      <td>Neutral</td>\n",
              "    </tr>\n",
              "    <tr>\n",
              "      <th>4</th>\n",
              "      <td>Our goal by July 4th is to have 70% of adult ...</td>\n",
              "      <td>0.350000</td>\n",
              "      <td>-0.100000</td>\n",
              "      <td>Negative</td>\n",
              "    </tr>\n",
              "    <tr>\n",
              "      <th>...</th>\n",
              "      <td>...</td>\n",
              "      <td>...</td>\n",
              "      <td>...</td>\n",
              "      <td>...</td>\n",
              "    </tr>\n",
              "    <tr>\n",
              "      <th>195</th>\n",
              "      <td>Tonight, in Washington, D.C. and across the na...</td>\n",
              "      <td>0.066667</td>\n",
              "      <td>0.000000</td>\n",
              "      <td>Neutral</td>\n",
              "    </tr>\n",
              "    <tr>\n",
              "      <th>196</th>\n",
              "      <td>We don’t have a second to waste when it comes ...</td>\n",
              "      <td>0.178571</td>\n",
              "      <td>0.028571</td>\n",
              "      <td>Positive</td>\n",
              "    </tr>\n",
              "    <tr>\n",
              "      <th>197</th>\n",
              "      <td>Join us for a national moment of unity and rem...</td>\n",
              "      <td>0.375000</td>\n",
              "      <td>-0.125000</td>\n",
              "      <td>Negative</td>\n",
              "    </tr>\n",
              "    <tr>\n",
              "      <th>198</th>\n",
              "      <td>Next stop: Washington, D.C.</td>\n",
              "      <td>0.000000</td>\n",
              "      <td>0.000000</td>\n",
              "      <td>Neutral</td>\n",
              "    </tr>\n",
              "    <tr>\n",
              "      <th>199</th>\n",
              "      <td>I’m in Delaware for one final event before I h...</td>\n",
              "      <td>1.000000</td>\n",
              "      <td>0.000000</td>\n",
              "      <td>Neutral</td>\n",
              "    </tr>\n",
              "  </tbody>\n",
              "</table>\n",
              "<p>200 rows × 4 columns</p>\n",
              "</div>"
            ],
            "text/plain": [
              "                                                Tweets  ...  Analysis\n",
              "0    Since the beginning of our administration, the...  ...  Positive\n",
              "1         Tune in as I discuss the April jobs report.   ...   Neutral\n",
              "2     This week we launched the Restaurant Revitali...  ...  Negative\n",
              "3     If we want our economy to recover in a way th...  ...   Neutral\n",
              "4     Our goal by July 4th is to have 70% of adult ...  ...  Negative\n",
              "..                                                 ...  ...       ...\n",
              "195  Tonight, in Washington, D.C. and across the na...  ...   Neutral\n",
              "196  We don’t have a second to waste when it comes ...  ...  Positive\n",
              "197  Join us for a national moment of unity and rem...  ...  Negative\n",
              "198                       Next stop: Washington, D.C.   ...   Neutral\n",
              "199  I’m in Delaware for one final event before I h...  ...   Neutral\n",
              "\n",
              "[200 rows x 4 columns]"
            ]
          },
          "metadata": {
            "tags": []
          },
          "execution_count": 22
        }
      ]
    },
    {
      "cell_type": "code",
      "metadata": {
        "colab": {
          "base_uri": "https://localhost:8080/"
        },
        "id": "rx12vHGBUEJ0",
        "cellView": "form",
        "outputId": "f450afc0-3a7d-481b-81cb-6be46b9d1d40"
      },
      "source": [
        "#@title Positive Tweets\n",
        "# print all the positive tweets\n",
        "j = 1\n",
        "sortedDf = df.sort_values(by = ['Polarity'])\n",
        "\n",
        "for i in range(0, sortedDf.shape[0]):\n",
        "  if (sortedDf['Analysis'][i] == 'Positive'):\n",
        "    print(str(j) + ') ' + sortedDf['Tweets'][i])\n",
        "    print()\n",
        "    j = j + 1\n",
        "\n"
      ],
      "execution_count": null,
      "outputs": [
        {
          "output_type": "stream",
          "text": [
            "1) Since the beginning of our administration, the economy has added more than 1.5 million jobs. \n",
            "\n",
            "We’ve still got work to do, but America is moving in the right direction. \n",
            "\n",
            "2)  Teachers are an extraordinary force for good in our nation — I’m lucky enough to be married to one and have seen firsthand how h…\n",
            "\n",
            "3) America is on the move again. \n",
            "\n",
            "We are choosing hope over fear. \n",
            "Truth over lies. \n",
            "Light over darkness. \n",
            "\n",
            "There’s nothing we cannot do if we do it together.\n",
            "\n",
            "4) We’ve never been more optimistic about the future of America. \n",
            "\n",
            "5) In Georgia with  to celebrate the successes of the first 100 days of the Biden-Harris administration. Jobs are coming back, folks are getting vaccinated, and better days are ahead. Tune in. \n",
            "\n",
            "\n",
            "6)  If we are to truly restore the soul of America, then we need to protect the sacred right to vote.\n",
            "\n",
            "Congress should pass H.R. 1 a…\n",
            "\n",
            "7) Together, we’re getting back on track. Tune in now for our administration’s first joint address to Congress. \n",
            "\n",
            "8)  To make tonight’s joint address accessible for all Americans, every White House livestream will have American Sign Language (ASL…\n",
            "\n",
            "9) With the first 100 days of our administration under our belt, America is getting back on track—all thanks to the support of grassroots volunteers. Help us keep the momentum going by joining our Week of Action: \n",
            "\n",
            "10)  I believe no one should work full time and still live in poverty. That’s why today, I raised the minimum wage to $15 an hour for…\n",
            "\n",
            "11)  Today, we’re launching a new program funded by the American Rescue Plan to provide nutrition assistance to more than 30 million…\n",
            "\n",
            "12)  Just as India sent assistance to the United States as our hospitals were strained early in the pandemic, we are determined to he…\n",
            "\n",
            "13)  Before I took office, I promised help was on the way. Just three months in, I’m proud to say help is here. We’ve delivered over…\n",
            "\n",
            "14) Let’s close the digital divide once and for all. Our American Jobs Plan will make sure every American has access to high-speed internet. \n",
            "\n",
            "15) Heading back to Georgia with  next Thursday to mark 100 days of our administration and thank folks for helping us build back better as a nation. See you soon!\n",
            "\n",
            "16)  Before taking office, President Biden set a bold goal of 100 million shots in his first 100 days.\n",
            " \n",
            "After reaching the goal…\n",
            "\n",
            "17)  America is back. We rejoined the Paris Agreement and are ready to rally the world to tackle the climate crisis. Let’s do this.\n",
            "\n",
            "18)  Live: President Biden and Vice President Harris address the nation on the verdict in the trial of Derek Chauvin. \n",
            "\n",
            "19) Today, every adult is eligible to get a COVID-19 vaccine. Better days are ahead.\n",
            "\n",
            "20)  I’m looking forward to welcoming my friend Prime Minister Suga to the White House this afternoon for the first foreign leader vi…\n",
            "\n",
            "21)  We continue to make progress in our work to vaccinate as many adults in this country as we can. Our current 7-day dail…\n",
            "\n",
            "22)  Race should never determine health outcomes — and pregnancy and childbirth should be safe for all. But for too many Black women,…\n",
            "\n",
            "23)  More than 112 million Americans have received at least one dose and more than 66 million adult Americans are now fully…\n",
            "\n",
            "24)  Today, I’m joining Vice President Harris and Attorney General Garland to announce new actions to reduce gun violence. Tune in. h…\n",
            "\n",
            "25)  Clean drinking water is infrastructure. The American Jobs Plan will improve our water infrastructure by replacing 100% of t…\n",
            "\n",
            "26)  I’m proud to share that yesterday, we crossed 150 million shots in just 75 days of my Administration — on our way to hitting our…\n",
            "\n",
            "27)  Here’s the deal: Wall Street didn’t build this country — the great American middle class did. It’s time we rebuild the middle cl…\n",
            "\n",
            "28)  From our family to yours, we wish you health, hope, joy, and peace. Happy Easter, everyone! \n",
            "\n",
            "29)  The American Jobs Plan will ensure every American can turn on the faucet or fountain and drink clean water. \n",
            "\n",
            "30) Under the American Jobs Plan, 100% of our nation’s lead pipes and service lines will be replaced—so every child in America can turn on the faucet or fountain and drink clean water. \n",
            "\n",
            "We cannot delay another minute.\n",
            "\n",
            "31) Wall Street didn’t build this country—the great American middle class did. This time, when we rebuild the middle class under the American Jobs Plan, we’re bringing everyone along.\n",
            "\n",
            "32) Millions of Americans lost their jobs last year.\n",
            "\n",
            "Here’s the truth: We all do better when we all do well. It’s time to build our economy from the bottom up—and the middle out—not the top down.\n",
            "\n",
            "33)  I’m proud to announce that three weeks from today, 90% of adults will be eligible to get vaccinated — and 90% of Americans will…\n",
            "\n",
            "34)  Two weeks ago, I directed all states, tribes, and territories to make all adult Americans eligible for the vaccine no later than…\n",
            "\n",
            "35)  As we recall the Passover story of overcoming adversity, finding hope, and becoming free, we find a renewed salience. This weeke…\n",
            "\n",
            "36)  Before I took office, I set a big goal of 100 million shots in my first 100 days.\n",
            " \n",
            "We hit the goal on day 58.\n",
            " \n",
            "Now, I’m settin…\n",
            "\n",
            "37)  This afternoon, I’m holding my first formal press conference as president. Tune in. \n",
            "\n",
            "38)  In total, 84 million people -- about 1 in 3 adults -- have received at least one dose of the vaccine and more than 45…\n",
            "\n",
            "39)  Big news: The Biden-Harris Administration set a new record this weekend with 6 million shots reported administered. We’re r…\n",
            "\n",
            "40)  Words have consequences. \n",
            "\n",
            "It’s called the coronavirus.\n",
            "\n",
            "Full stop.\n",
            "\n",
            "41)  Over the weekend, we administered nearly 6 million doses of the COVID-19 vaccine. \n",
            "\n",
            "Today, for the first time on a Mon…\n",
            "\n",
            "42)  Last week, I signed the American Rescue Plan into law and direct payments have begun going out to folks across the country. I kn…\n",
            "\n",
            "43) It matters whether you continue to wear a mask.  \n",
            "It matters whether you continue to socially distance.  \n",
            "It matters whether you wash your hands.  \n",
            "\n",
            "It all matters and can help save lives.\n",
            "\n",
            "44) The American Rescue Plan means a $7,000 check for a single mom of four. It means more support to safely and quickly reopen schools. It means setting up additional vaccination sites to help America get back to normal. \n",
            "\n",
            "What does the American Rescue Plan mean to you?\n",
            "\n",
            "45) 85% of American households will get direct checks from the American Rescue Plan.\n",
            "\n",
            "For so many Americans, that means they can pay the rent. That means they can put food on the table.  \n",
            "\n",
            "Share below what the American Rescue Plan will do for you.\n",
            "\n",
            "46)  All adult Americans will be eligible to get the vaccine no later than May 1.\n",
            "\n",
            "47)  I believe every worker deserves a free and fair choice to join a union — and the PRO Act will bring us closer to that reality. I…\n",
            "\n",
            "48)  The legacy of Selma is that while nothing can stop free people from exercising their most sacred power as citizens, there are th…\n",
            "\n",
            "49)  When I took office, I promised help was on the way. Thanks to  and Senate Democrats, we've taken one more giant step…\n",
            "\n",
            "50)  With the Johnson &amp; Johnson vaccine, we now have a third safe and effective COVID-19 vaccine being administered across the countr…\n",
            "\n",
            "51)  The right to vote is sacred and fundamental — and H.R. 1 is urgently needed to protect that right, to safeguard the integrity of…\n",
            "\n",
            "52)  In the two weeks since the Biden-Harris Administration opened a special enrollment period for health insurance, over 200,00…\n",
            "\n",
            "53)  An educator is leading the Department of Education once again. I look forward to working with  to safely reopen our n…\n",
            "\n",
            "54)  Wash your hands.\n",
            "Stay socially distanced.\n",
            "Wear a mask.\n",
            "Get vaccinated when it’s your turn.\n",
            "\n",
            "Despite our progress, we can’t let o…\n",
            "\n",
            "55) A campaign for everyone who’s been knocked down or counted out.\n",
            "\n",
            "A campaign that brought Americans together of every race, ethnicity, gender, economic station, and party.\n",
            "\n",
            "A year ago, the people of South Carolina lifted that campaign on their shoulders.\n",
            "\n",
            "\n",
            "56)  The more people that get vaccinated, the faster we will beat this pandemic. That’s why one of my first goals is to administer 10…\n",
            "\n",
            "57)  Erica is a nurse in New York City and runs COVID-19 testing at one of the hardest-hit hospitals in the country. President B…\n",
            "\n",
            "58)  Transgender rights are human rights — and the House made that clear today by passing the Equality Act. \n",
            "\n",
            "Now it's time for the S…\n",
            "\n",
            "59)  I am pleased that the House will vote next week on the George Floyd Justice in Policing Act. I encourage the House to pass it. F…\n",
            "\n",
            "60)  When I met with Prime Minister  in 2016, I said the world needed more leaders like him. A lot has changed since th…\n",
            "\n",
            "61)  Small businesses need relief, but many were muscled out of the way by big companies last year. That’s why starting today, we’re…\n",
            "\n",
            "62)  500,000 lives lost to COVID-19. It’s an unfathomable number, but each one represents a family that will never again be whole. To…\n",
            "\n",
            "63)  I know folks have a lot of questions about COVID-19 mutations, our vaccination progress, and much more.  Dr. Walensk…\n",
            "\n",
            "64)  If there’s one message I want to cut through to everyone in this country, it’s this: The vaccines are safe.\n",
            "\n",
            "For yourself, your…\n",
            "\n",
            "65)  Overcoming the COVID-19 pandemic needs to be our top priority as a nation. I joined members of my team to talk about our plan to…\n",
            "\n",
            "66)  Texas — If you’re without heat, head to  to find a warming shelter near you or call 211 for addition…\n",
            "\n",
            "67)  The Biden-Harris Administration opened a special enrollment period to ensure every American has the opportunity to sign up…\n",
            "\n",
            "68)  Tonight, I’ll be answering questions at my first town hall since taking office. Make sure to tune in to CNN at 9 PM ET / 8 PM CT…\n",
            "\n",
            "69)  Before I took office, I set a big goal of administering 100 million shots in the first 100 days. With the progress we’re making…\n",
            "\n",
            "70)  The love of my life and the life of my love. Happy Valentine’s Day, Jilly. \n",
            "\n",
            "71)  Samir and Neal own NaanStop in Atlanta, Georgia — and like many small businesses around the country, they’ve been hit hard by th…\n",
            "\n",
            "72)  From the Biden family to yours, happy LunarNewYear. We wish you happiness, health, and prosperity in the Year of the Ox. https:…\n",
            "\n",
            "73)  The risk isn't that we do too much when it comes to a COVID relief package — it's that we don't do enough.\n",
            "\n",
            "We have to go big.\n",
            "\n",
            "74)  Let me be clear: No one should lose their home in the middle of this pandemic. Congress needs to pass the American Rescue Plan t…\n",
            "\n",
            "75)  There’s so much more work to be done, but we’ve been able to increase vaccine distribution by 28% in the first three weeks alone…\n",
            "\n",
            "76)  Launching a national vaccination program to quickly and equitably vaccinate America — that’s the American Rescue Plan. \n",
            "\n",
            "77)  Making vaccines free and accessible for every American — that’s the American Rescue Plan. \n",
            "\n",
            "78)  Everyone who wants a vaccine should be able to get one free of charge. The American Rescue Plan will make that a reality.\n",
            "\n",
            "79)  Let me be clear: The risk in this moment isn’t that we do too much — it’s that we don’t do enough. Congress must pass the Americ…\n",
            "\n",
            "80)  In order to get America vaccinated, we need more:\n",
            "\n",
            "- Places for people to get vaccinated\n",
            "- Medical teams to get shots into arms…\n",
            "\n",
            "81)  Over the last 10 days, I’ve taken action on:\n",
            "\n",
            "- COVID-19\n",
            "- The economy\n",
            "- Climate change\n",
            "- Racial equity\n",
            "- Immigration\n",
            "- Health c…\n",
            "\n",
            "82)  This afternoon, I’ll be taking action to meet the climate crisis with the urgency it demands. Tune in. \n",
            "\n",
            "83)  We’re facing a historic moment in our nation’s history — one that requires bold and swift action. That’s why this week, I took h…\n",
            "\n",
            "84)  Federal employees have dedicated their careers to serving the American people — and they are worthy of the utmost dignity and re…\n",
            "\n",
            "85)  We are currently facing four converging crises — COVID-19, the resulting economic crisis, climate change, and racial inequi…\n",
            "\n",
            "86) Now the real work begins, folks. Follow along at  as we build back better. \n",
            "\n",
            "87) I love you, Jilly, and I couldn’t be more grateful to have you with me on the journey ahead. \n",
            "\n",
            "88) It’s a new day in America.\n",
            "\n",
            "89) We don’t have a second to waste when it comes to tackling the crises we face as a nation. That’s why after being sworn in tomorrow, I’ll get right to work. \n",
            "\n"
          ],
          "name": "stdout"
        }
      ]
    },
    {
      "cell_type": "code",
      "metadata": {
        "colab": {
          "base_uri": "https://localhost:8080/"
        },
        "id": "tJPN7r3GVS5x",
        "cellView": "form",
        "outputId": "d5e78148-9c50-40d4-f001-9e672b5e92a1"
      },
      "source": [
        "#@title Negative Tweets\n",
        "# print all the negative tweets\n",
        "j = 1\n",
        "sortedDF = df.sort_values(by = ['Polarity'], ascending = 'False')\n",
        "\n",
        "for i in range(0, sortedDF.shape[0]):\n",
        "  if (sortedDF['Analysis'][i] == 'Negative'):\n",
        "    print(str(j) + ') ' + sortedDF['Tweets'][i])\n",
        "    print()\n",
        "    j = j + 1"
      ],
      "execution_count": null,
      "outputs": [
        {
          "output_type": "stream",
          "text": [
            "1)  This week we launched the Restaurant Revitalization Fund to provide direct relief to restaurants and other hard-hit food es…\n",
            "\n",
            "2)  Our goal by July 4th is to have 70% of adult Americans with at least one shot — and 160 million Americans fully vaccinated. It’s…\n",
            "\n",
            "3)  The guilty verdict does not bring back George Floyd. But through the family’s pain, they are finding purpose so George’s legacy…\n",
            "\n",
            "4)  Today, a jury in Minnesota found former Minneapolis Police Officer Derek Chauvin guilty of murdering George Floyd.\n",
            " \n",
            "The verdict…\n",
            "\n",
            "5)  “When the will defies fear, when duty throws the gauntlet down to fate, when honor scorns to compromise with death — that is her…\n",
            "\n",
            "6)  Today I’m thinking about Daunte Wright and his family — and the pain, anger, and trauma that Black America experiences every day…\n",
            "\n",
            "7)  Gun violence in this country is an epidemic — and it’s long past time Congress take action.\n",
            "\n",
            "8) The American Jobs Plan is a once-in-a-generation investment in America. It will:\n",
            "✅Modernize 20,000 miles of highways, roads, and main streets\n",
            "✅Repair 10,000 bridges desperately in need of upgrades \n",
            "✅Replace 100% of our nation’s lead pipes and service lines\n",
            "\n",
            "9)  President Biden believes every single American deserves access to quality, affordable health care. Here’s a breakdown of ho…\n",
            "\n",
            "10)  Jill and I are devastated for the lives that have been shattered by gun violence in Colorado. Less than a week after the horrifi…\n",
            "\n",
            "11)  Under the American Rescue Plan, the typical family of four is getting a $5,600 check. That money helps folks keep a roof over th…\n",
            "\n",
            "12)  Before President Biden took office, the U.S. was administering an average of 900,000 COVID-19 vaccine doses a day.\n",
            "\n",
            "Last we…\n",
            "\n",
            "13)  Across the country, millions of small businesses are struggling to keep their doors open. Here’s a breakdown of how the Ame…\n",
            "\n",
            "14)  Tammy is a health care professional and single mother of four children — and like countless other Americans, she’s struggli…\n",
            "\n",
            "15)  Yesterday I traveled to Texas to visit an emergency operations center, food bank, and vaccination site. Each stop represented ou…\n",
            "\n",
            "16)  COVID-19 vaccinations are up and cases and hospitalizations are down, but let me be clear: now is not the time to relax. https:/…\n",
            "\n",
            "17)  The federal government has sent generators, blankets, water, and other critical supplies to Texas, but local organizations on th…\n",
            "\n",
            "18)  On Thursday, I joined the world and watched in awe as the Perseverance Rover touched down on the surface of Mars. It was a remar…\n",
            "\n",
            "19)  The Equality Act provides long overdue federal civil rights protections for LGBTQ+ Americans, preventing discrimination in our h…\n",
            "\n",
            "20)  Jill and I are keeping Texas, Oklahoma, and other impacted states in our prayers. I’ve declared states of emergency, authorized…\n",
            "\n",
            "21)  I know the last year has been difficult and painful for all of us. I hope Jill’s Valentine’s Day message helped brighten your da…\n",
            "\n",
            "22)  We don’t have a second to waste when it comes to delivering the American people the relief they desperately need. I’m calling on…\n",
            "\n",
            "23)  It’s long past time we raise the minimum wage to $15 an hour. The American Rescue Plan will get it done.\n",
            "\n",
            "24)  I know times are tough, but help is on the way. \n",
            "\n",
            "25)  This afternoon, I’ll be taking action to provide much-needed relief to communities and small businesses impacted by COVID-19. Tu…\n",
            "\n",
            "26)  We don't have a second to waste when it comes to getting this virus under control. That's why today, I'll be signing executive a…\n",
            "\n",
            "27)  There is no time to waste when it comes to tackling the crises we face. That's why today, I am heading to the Oval Office to get…\n",
            "\n",
            "28) Join us for a national moment of unity and remembrance in honor of the 400,000 Americans we’ve lost due to COVID-19. \n",
            "\n"
          ],
          "name": "stdout"
        }
      ]
    },
    {
      "cell_type": "code",
      "metadata": {
        "colab": {
          "base_uri": "https://localhost:8080/"
        },
        "id": "-6-5iM8rXtEZ",
        "cellView": "form",
        "outputId": "73dd5c70-4de4-4c5e-be23-02173030cc32"
      },
      "source": [
        "#@title Percentage of Posiitve Tweets\n",
        "# Get the % of positive tweets\n",
        "ptweets = df[df.Analysis == 'Positive']\n",
        "ptweets = ptweets['Tweets']\n",
        "\n",
        "round((ptweets.shape[0] / df.shape[0]) * 100, 1)"
      ],
      "execution_count": null,
      "outputs": [
        {
          "output_type": "execute_result",
          "data": {
            "text/plain": [
              "44.5"
            ]
          },
          "metadata": {
            "tags": []
          },
          "execution_count": 25
        }
      ]
    },
    {
      "cell_type": "code",
      "metadata": {
        "colab": {
          "base_uri": "https://localhost:8080/"
        },
        "id": "aUi2va3-Zr63",
        "cellView": "form",
        "outputId": "bea92e86-e1e6-46a5-e04e-1ffe9cb722e6"
      },
      "source": [
        "#@title Percentage of Negative Tweets\n",
        "# Get the % of negative tweets\n",
        "ntweets = df[df.Analysis == 'Negative']\n",
        "ntweets = ntweets['Tweets']\n",
        "\n",
        "round((ntweets.shape[0] / df.shape[0]) * 100, 1)"
      ],
      "execution_count": null,
      "outputs": [
        {
          "output_type": "execute_result",
          "data": {
            "text/plain": [
              "14.0"
            ]
          },
          "metadata": {
            "tags": []
          },
          "execution_count": 26
        }
      ]
    },
    {
      "cell_type": "code",
      "metadata": {
        "colab": {
          "base_uri": "https://localhost:8080/"
        },
        "id": "mxnjFq--aazs",
        "cellView": "form",
        "outputId": "4f542824-a43d-4859-8c03-47cc1dd5b56e"
      },
      "source": [
        "#@title Percentage of Neutral Tweets\n",
        "# Get the % of neutral tweets\n",
        "netweets = df[df.Analysis == 'Neutral']\n",
        "netweets = netweets['Tweets']\n",
        "\n",
        "round((netweets.shape[0] / df.shape[0]) * 100, 1)"
      ],
      "execution_count": null,
      "outputs": [
        {
          "output_type": "execute_result",
          "data": {
            "text/plain": [
              "41.5"
            ]
          },
          "metadata": {
            "tags": []
          },
          "execution_count": 27
        }
      ]
    },
    {
      "cell_type": "code",
      "metadata": {
        "colab": {
          "base_uri": "https://localhost:8080/",
          "height": 422
        },
        "id": "rUV4uYBNXcM9",
        "cellView": "form",
        "outputId": "ef085725-1b82-4cb0-e10c-c6578c1e6c0d"
      },
      "source": [
        "#@title Plot of Subjectivity and Polarity\n",
        "# plot the polarity and subjectivity\n",
        "plt.figure(figsize=(8,6))\n",
        "for i in range (0, df.shape[0]):\n",
        "  plt.scatter(df['Polarity'][i], df['Subjectivity'][i], color = 'Blue')\n",
        "\n",
        "plt.title('Sentiment Analysis')\n",
        "plt.xlabel('Polarity')\n",
        "plt.ylabel('Subjectivity')\n",
        "plt.show"
      ],
      "execution_count": null,
      "outputs": [
        {
          "output_type": "execute_result",
          "data": {
            "text/plain": [
              "<function matplotlib.pyplot.show>"
            ]
          },
          "metadata": {
            "tags": []
          },
          "execution_count": 28
        },
        {
          "output_type": "display_data",
          "data": {
            "image/png": "[encoded data removed]",
            "text/plain": [
              "<Figure size 576x432 with 1 Axes>"
            ]
          },
          "metadata": {
            "tags": [],
            "needs_background": "light"
          }
        }
      ]
    },
    {
      "cell_type": "code",
      "metadata": {
        "colab": {
          "base_uri": "https://localhost:8080/",
          "height": 331
        },
        "id": "9UTSn0kfak9M",
        "cellView": "form",
        "outputId": "7d6997df-d87e-4146-cd1f-de4b1d4774e3"
      },
      "source": [
        "#@title Graph of Positive, Negative and Neutral Tweets\n",
        "# Show the value counts\n",
        "df['Analysis'].value_counts()\n",
        "\n",
        "# plot and visualize the counts\n",
        "plt.title('Sentiment Analysis')\n",
        "plt.xlabel('Sentiment')\n",
        "plt.ylabel('Counts')\n",
        "df['Analysis'].value_counts().plot(kind='bar')\n",
        "plt.show()\n"
      ],
      "execution_count": null,
      "outputs": [
        {
          "output_type": "display_data",
          "data": {
            "image/png": "[encoded data removed]",
            "text/plain": [
              "<Figure size 432x288 with 1 Axes>"
            ]
          },
          "metadata": {
            "tags": [],
            "needs_background": "light"
          }
        }
      ]
    },
    {
      "cell_type": "code",
      "metadata": {
        "colab": {
          "base_uri": "https://localhost:8080/",
          "height": 248
        },
        "cellView": "form",
        "id": "vfDj3luxZZoP",
        "outputId": "c696b27d-54eb-42f7-e687-1855c4af0eef"
      },
      "source": [
        "#@title\n",
        "df['Analysis'].value_counts().plot(kind='pie')\n",
        "plt.show()"
      ],
      "execution_count": null,
      "outputs": [
        {
          "output_type": "display_data",
          "data": {
            "image/png": "[encoded data removed]",
            "text/plain": [
              "<Figure size 432x288 with 1 Axes>"
            ]
          },
          "metadata": {
            "tags": []
          }
        }
      ]
    }
  ]
}