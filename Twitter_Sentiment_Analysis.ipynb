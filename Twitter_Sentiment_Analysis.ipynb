{
  "nbformat": 4,
  "nbformat_minor": 0,
  "metadata": {
    "colab": {
      "name": "Twitter Sentiment Analysis.ipynb",
      "provenance": [],
      "collapsed_sections": [],
      "include_colab_link": true
    },
    "kernelspec": {
      "name": "python3",
      "display_name": "Python 3"
    },
    "language_info": {
      "name": "python"
    }
  },
  "cells": [
    {
      "cell_type": "markdown",
      "metadata": {
        "id": "view-in-github",
        "colab_type": "text"
      },
      "source": [
        "<a href=\"https://colab.research.google.com/github/yashukaushik01/Twitter-Sentiment-Analysis/blob/main/Twitter_Sentiment_Analysis.ipynb\" target=\"_parent\"><img src=\"https://colab.research.google.com/assets/colab-badge.svg\" alt=\"Open In Colab\"/></a>"
      ]
    },
    {
      "cell_type": "markdown",
      "metadata": {
        "id": "6f-VQZkFA_B4"
      },
      "source": [
        "\n",
        "# **Twitter Sentiment Analysis**\n",
        "\n",
        "---\n"
      ]
    },
    {
      "cell_type": "code",
      "metadata": {
        "id": "LPKj-30784F7"
      },
      "source": [
        "#@title Import Libraries\n",
        "import tweepy\n",
        "from textblob import TextBlob\n",
        "from wordcloud import WordCloud\n",
        "import pandas as pd\n",
        "import numpy as np\n",
        "import re\n",
        "import matplotlib.pyplot as plt\n",
        "plt.style.use('fivethirtyeight')"
      ],
      "execution_count": 1,
      "outputs": []
    },
    {
      "cell_type": "code",
      "metadata": {
        "id": "PqLjDSL2Fo4F"
      },
      "source": [
        "#@title Making Tweepy Object\n",
        "accessToken = '853589383831851010-S1G2nVWzD471mPciMJOmZGHWeV1pJle'\n",
        "accessTokenSecret = 'O09HnlrFsl94uEYOZ3KnCOSSvHlN8kIv0iTiP1aHz5ZDk'\n",
        "authenticate = tweepy.OAuthHandler(consumer_key='qm2SB0EhIWfDeVMVatmc3r0Y7', consumer_secret='MuFjZj4Viy3SDbyUxTjcB1C3hlkZawRrUPTMyBsGYeXIqOko6z')\n",
        "authenticate.set_access_token(accessToken, accessTokenSecret)\n",
        "api = tweepy.API(authenticate, wait_on_rate_limit = True)"
      ],
      "execution_count": 2,
      "outputs": []
    },
    {
      "cell_type": "code",
      "metadata": {
        "colab": {
          "base_uri": "https://localhost:8080/"
        },
        "id": "OUF1C_6OGXTw",
        "outputId": "ab8941f9-d6c9-4f86-c388-90a5e20197c6"
      },
      "source": [
        "#@title Extracting Tweets\n",
        "# Extract 100 tweets from twitter user\n",
        "posts = api.user_timeline(screen_name = \"JoeBiden\", count = 200, lang = \"en\", tweet_mode = \"extended\")\n",
        "i = 1\n",
        "for tweet in posts[0:5]:\n",
        "  print(str(i) + ') ' + tweet.full_text + '\\n')\n",
        "  i = i + 1"
      ],
      "execution_count": 3,
      "outputs": [
        {
          "output_type": "stream",
          "text": [
            "1) We’ve made historic economic progress and created more jobs than any administration has done in the first six months of being in office.\n",
            " \n",
            "Now, we have a chance to turn this great movement into an economy that works for all Americans—not just the wealthy.\n",
            "\n",
            "2) RT @POTUS: Happy birthday, @BarackObama. I’m proud to call you a brother and a friend — and I’m grateful for your selfless service to this…\n",
            "\n",
            "3) Workers shouldn’t just compete for jobs. Jobs should compete for workers. https://t.co/2o4a7Bjd9c\n",
            "\n",
            "4) RT @POTUS: We are prepared to deal with the surge in COVID-19 cases like never before.  \n",
            " \n",
            "Unlike a year ago, we have the ability to save l…\n",
            "\n",
            "5) It’s past time the super wealthy and profitable corporations began paying their fair share. https://t.co/cHHSzIK9tU\n",
            "\n"
          ],
          "name": "stdout"
        }
      ]
    },
    {
      "cell_type": "code",
      "metadata": {
        "colab": {
          "base_uri": "https://localhost:8080/",
          "height": 204
        },
        "id": "rsJYeemnKFWL",
        "outputId": "b04b2a5d-b84b-4ce5-b957-c314f20d778b"
      },
      "source": [
        "#@title Head of DataFrame\n",
        "# Create a dataframe with a column called tweets\n",
        "df = pd.DataFrame([tweet.full_text for tweet in posts], columns = ['Tweets'])\n",
        "df.head()"
      ],
      "execution_count": 4,
      "outputs": [
        {
          "output_type": "execute_result",
          "data": {
            "text/html": [
              "<div>\n",
              "<style scoped>\n",
              "    .dataframe tbody tr th:only-of-type {\n",
              "        vertical-align: middle;\n",
              "    }\n",
              "\n",
              "    .dataframe tbody tr th {\n",
              "        vertical-align: top;\n",
              "    }\n",
              "\n",
              "    .dataframe thead th {\n",
              "        text-align: right;\n",
              "    }\n",
              "</style>\n",
              "<table border=\"1\" class=\"dataframe\">\n",
              "  <thead>\n",
              "    <tr style=\"text-align: right;\">\n",
              "      <th></th>\n",
              "      <th>Tweets</th>\n",
              "    </tr>\n",
              "  </thead>\n",
              "  <tbody>\n",
              "    <tr>\n",
              "      <th>0</th>\n",
              "      <td>We’ve made historic economic progress and crea...</td>\n",
              "    </tr>\n",
              "    <tr>\n",
              "      <th>1</th>\n",
              "      <td>RT @POTUS: Happy birthday, @BarackObama. I’m p...</td>\n",
              "    </tr>\n",
              "    <tr>\n",
              "      <th>2</th>\n",
              "      <td>Workers shouldn’t just compete for jobs. Jobs ...</td>\n",
              "    </tr>\n",
              "    <tr>\n",
              "      <th>3</th>\n",
              "      <td>RT @POTUS: We are prepared to deal with the su...</td>\n",
              "    </tr>\n",
              "    <tr>\n",
              "      <th>4</th>\n",
              "      <td>It’s past time the super wealthy and profitabl...</td>\n",
              "    </tr>\n",
              "  </tbody>\n",
              "</table>\n",
              "</div>"
            ],
            "text/plain": [
              "                                              Tweets\n",
              "0  We’ve made historic economic progress and crea...\n",
              "1  RT @POTUS: Happy birthday, @BarackObama. I’m p...\n",
              "2  Workers shouldn’t just compete for jobs. Jobs ...\n",
              "3  RT @POTUS: We are prepared to deal with the su...\n",
              "4  It’s past time the super wealthy and profitabl..."
            ]
          },
          "metadata": {
            "tags": []
          },
          "execution_count": 4
        }
      ]
    },
    {
      "cell_type": "code",
      "metadata": {
        "colab": {
          "base_uri": "https://localhost:8080/",
          "height": 419
        },
        "id": "-rZfakapLTIo",
        "outputId": "a0cff8bb-cde5-4025-e33c-dc1ed42dfedc"
      },
      "source": [
        "#@title Cleaning the Tweet Data\n",
        "# Cleaning the text\n",
        "def cleanText(text):\n",
        "  text = re.sub(r'@[A-Za-z0-9]+', '', text) \n",
        "  text = re.sub(r'#', '', text)\n",
        "  text = re.sub(r'RT[\\s]:', '', text)\n",
        "  text = re.sub(r'https?:\\/\\/\\S+', '', text)\n",
        "  return text\n",
        "\n",
        "df['Tweets'] = df['Tweets'].apply(cleanText)\n",
        "\n",
        "df"
      ],
      "execution_count": 5,
      "outputs": [
        {
          "output_type": "execute_result",
          "data": {
            "text/html": [
              "<div>\n",
              "<style scoped>\n",
              "    .dataframe tbody tr th:only-of-type {\n",
              "        vertical-align: middle;\n",
              "    }\n",
              "\n",
              "    .dataframe tbody tr th {\n",
              "        vertical-align: top;\n",
              "    }\n",
              "\n",
              "    .dataframe thead th {\n",
              "        text-align: right;\n",
              "    }\n",
              "</style>\n",
              "<table border=\"1\" class=\"dataframe\">\n",
              "  <thead>\n",
              "    <tr style=\"text-align: right;\">\n",
              "      <th></th>\n",
              "      <th>Tweets</th>\n",
              "    </tr>\n",
              "  </thead>\n",
              "  <tbody>\n",
              "    <tr>\n",
              "      <th>0</th>\n",
              "      <td>We’ve made historic economic progress and crea...</td>\n",
              "    </tr>\n",
              "    <tr>\n",
              "      <th>1</th>\n",
              "      <td>Happy birthday, . I’m proud to call you a bro...</td>\n",
              "    </tr>\n",
              "    <tr>\n",
              "      <th>2</th>\n",
              "      <td>Workers shouldn’t just compete for jobs. Jobs ...</td>\n",
              "    </tr>\n",
              "    <tr>\n",
              "      <th>3</th>\n",
              "      <td>We are prepared to deal with the surge in COV...</td>\n",
              "    </tr>\n",
              "    <tr>\n",
              "      <th>4</th>\n",
              "      <td>It’s past time the super wealthy and profitabl...</td>\n",
              "    </tr>\n",
              "    <tr>\n",
              "      <th>...</th>\n",
              "      <td>...</td>\n",
              "    </tr>\n",
              "    <tr>\n",
              "      <th>195</th>\n",
              "      <td>The American Jobs Plan will ensure every Amer...</td>\n",
              "    </tr>\n",
              "    <tr>\n",
              "      <th>196</th>\n",
              "      <td>The American Jobs Plan is the largest American...</td>\n",
              "    </tr>\n",
              "    <tr>\n",
              "      <th>197</th>\n",
              "      <td>Under the American Jobs Plan, 100% of our nati...</td>\n",
              "    </tr>\n",
              "    <tr>\n",
              "      <th>198</th>\n",
              "      <td>Wall Street didn’t build this country—the grea...</td>\n",
              "    </tr>\n",
              "    <tr>\n",
              "      <th>199</th>\n",
              "      <td>Delivering for the American people is what the...</td>\n",
              "    </tr>\n",
              "  </tbody>\n",
              "</table>\n",
              "<p>200 rows × 1 columns</p>\n",
              "</div>"
            ],
            "text/plain": [
              "                                                Tweets\n",
              "0    We’ve made historic economic progress and crea...\n",
              "1     Happy birthday, . I’m proud to call you a bro...\n",
              "2    Workers shouldn’t just compete for jobs. Jobs ...\n",
              "3     We are prepared to deal with the surge in COV...\n",
              "4    It’s past time the super wealthy and profitabl...\n",
              "..                                                 ...\n",
              "195   The American Jobs Plan will ensure every Amer...\n",
              "196  The American Jobs Plan is the largest American...\n",
              "197  Under the American Jobs Plan, 100% of our nati...\n",
              "198  Wall Street didn’t build this country—the grea...\n",
              "199  Delivering for the American people is what the...\n",
              "\n",
              "[200 rows x 1 columns]"
            ]
          },
          "metadata": {
            "tags": []
          },
          "execution_count": 5
        }
      ]
    },
    {
      "cell_type": "code",
      "metadata": {
        "colab": {
          "base_uri": "https://localhost:8080/",
          "height": 419
        },
        "id": "L2aprNDONTBQ",
        "cellView": "form",
        "outputId": "ab9ee3bc-dd8d-4dc0-ece5-1dfb3cc8c02c"
      },
      "source": [
        "#@title Get Subjectivity and Polarity of Tweets\n",
        "# create function to get the subjectivity\n",
        "def getSubjectivity(text):\n",
        "  return TextBlob(text).sentiment.subjectivity\n",
        "\n",
        "# create function to get the polarity\n",
        "def getPolarity(text):\n",
        "  return TextBlob(text).sentiment.polarity\n",
        "\n",
        "# Create two new columns\n",
        "df['Subjectivity'] = df['Tweets'].apply(getSubjectivity)\n",
        "df['Polarity'] = df['Tweets'].apply(getPolarity)\n",
        "\n",
        "df\n"
      ],
      "execution_count": 6,
      "outputs": [
        {
          "output_type": "execute_result",
          "data": {
            "text/html": [
              "<div>\n",
              "<style scoped>\n",
              "    .dataframe tbody tr th:only-of-type {\n",
              "        vertical-align: middle;\n",
              "    }\n",
              "\n",
              "    .dataframe tbody tr th {\n",
              "        vertical-align: top;\n",
              "    }\n",
              "\n",
              "    .dataframe thead th {\n",
              "        text-align: right;\n",
              "    }\n",
              "</style>\n",
              "<table border=\"1\" class=\"dataframe\">\n",
              "  <thead>\n",
              "    <tr style=\"text-align: right;\">\n",
              "      <th></th>\n",
              "      <th>Tweets</th>\n",
              "      <th>Subjectivity</th>\n",
              "      <th>Polarity</th>\n",
              "    </tr>\n",
              "  </thead>\n",
              "  <tbody>\n",
              "    <tr>\n",
              "      <th>0</th>\n",
              "      <td>We’ve made historic economic progress and crea...</td>\n",
              "      <td>0.463889</td>\n",
              "      <td>0.375000</td>\n",
              "    </tr>\n",
              "    <tr>\n",
              "      <th>1</th>\n",
              "      <td>Happy birthday, . I’m proud to call you a bro...</td>\n",
              "      <td>1.000000</td>\n",
              "      <td>0.800000</td>\n",
              "    </tr>\n",
              "    <tr>\n",
              "      <th>2</th>\n",
              "      <td>Workers shouldn’t just compete for jobs. Jobs ...</td>\n",
              "      <td>0.000000</td>\n",
              "      <td>0.000000</td>\n",
              "    </tr>\n",
              "    <tr>\n",
              "      <th>3</th>\n",
              "      <td>We are prepared to deal with the surge in COV...</td>\n",
              "      <td>0.000000</td>\n",
              "      <td>0.000000</td>\n",
              "    </tr>\n",
              "    <tr>\n",
              "      <th>4</th>\n",
              "      <td>It’s past time the super wealthy and profitabl...</td>\n",
              "      <td>0.704167</td>\n",
              "      <td>0.320833</td>\n",
              "    </tr>\n",
              "    <tr>\n",
              "      <th>...</th>\n",
              "      <td>...</td>\n",
              "      <td>...</td>\n",
              "      <td>...</td>\n",
              "    </tr>\n",
              "    <tr>\n",
              "      <th>195</th>\n",
              "      <td>The American Jobs Plan will ensure every Amer...</td>\n",
              "      <td>0.233333</td>\n",
              "      <td>0.122222</td>\n",
              "    </tr>\n",
              "    <tr>\n",
              "      <th>196</th>\n",
              "      <td>The American Jobs Plan is the largest American...</td>\n",
              "      <td>0.000000</td>\n",
              "      <td>0.000000</td>\n",
              "    </tr>\n",
              "    <tr>\n",
              "      <th>197</th>\n",
              "      <td>Under the American Jobs Plan, 100% of our nati...</td>\n",
              "      <td>0.350000</td>\n",
              "      <td>0.183333</td>\n",
              "    </tr>\n",
              "    <tr>\n",
              "      <th>198</th>\n",
              "      <td>Wall Street didn’t build this country—the grea...</td>\n",
              "      <td>0.150000</td>\n",
              "      <td>0.160000</td>\n",
              "    </tr>\n",
              "    <tr>\n",
              "      <th>199</th>\n",
              "      <td>Delivering for the American people is what the...</td>\n",
              "      <td>0.000000</td>\n",
              "      <td>0.000000</td>\n",
              "    </tr>\n",
              "  </tbody>\n",
              "</table>\n",
              "<p>200 rows × 3 columns</p>\n",
              "</div>"
            ],
            "text/plain": [
              "                                                Tweets  Subjectivity  Polarity\n",
              "0    We’ve made historic economic progress and crea...      0.463889  0.375000\n",
              "1     Happy birthday, . I’m proud to call you a bro...      1.000000  0.800000\n",
              "2    Workers shouldn’t just compete for jobs. Jobs ...      0.000000  0.000000\n",
              "3     We are prepared to deal with the surge in COV...      0.000000  0.000000\n",
              "4    It’s past time the super wealthy and profitabl...      0.704167  0.320833\n",
              "..                                                 ...           ...       ...\n",
              "195   The American Jobs Plan will ensure every Amer...      0.233333  0.122222\n",
              "196  The American Jobs Plan is the largest American...      0.000000  0.000000\n",
              "197  Under the American Jobs Plan, 100% of our nati...      0.350000  0.183333\n",
              "198  Wall Street didn’t build this country—the grea...      0.150000  0.160000\n",
              "199  Delivering for the American people is what the...      0.000000  0.000000\n",
              "\n",
              "[200 rows x 3 columns]"
            ]
          },
          "metadata": {
            "tags": []
          },
          "execution_count": 6
        }
      ]
    },
    {
      "cell_type": "code",
      "metadata": {
        "colab": {
          "base_uri": "https://localhost:8080/",
          "height": 265
        },
        "id": "TMZ1lF-4O7f0",
        "cellView": "form",
        "outputId": "c3825787-3c6c-40d4-ac64-23a4496f8e6f"
      },
      "source": [
        "#@title Word Cloud\n",
        "# plotting word cloud\n",
        "allWords = ' '.join( [twts for twts in df['Tweets']] )\n",
        "wordCloud = WordCloud(width = 500, height = 300, random_state = 21, max_font_size = 119).generate(allWords)\n",
        "plt.imshow(wordCloud, interpolation = 'bilinear')\n",
        "plt.axis('off')\n",
        "plt.show"
      ],
      "execution_count": 7,
      "outputs": [
        {
          "output_type": "execute_result",
          "data": {
            "text/plain": [
              "<function matplotlib.pyplot.show>"
            ]
          },
          "metadata": {
            "tags": []
          },
          "execution_count": 7
        },
        {
          "output_type": "display_data",
          "data": {
            "image/png": "[encoded data removed]",
            "text/plain": [
              "<Figure size 432x288 with 1 Axes>"
            ]
          },
          "metadata": {
            "tags": [],
            "needs_background": "light"
          }
        }
      ]
    },
    {
      "cell_type": "code",
      "metadata": {
        "colab": {
          "base_uri": "https://localhost:8080/",
          "height": 419
        },
        "id": "o9TrF1yyTKX8",
        "cellView": "form",
        "outputId": "abff78e5-484c-4262-d429-fa3c4b2dd004"
      },
      "source": [
        "#@title Analysis\n",
        "# create a function to compute negative, neutral and positive analysis\n",
        "def getAnalysis(score):\n",
        "  if score < 0:\n",
        "    return 'Negative'\n",
        "  elif score == 0:\n",
        "    return 'Neutral'\n",
        "  else:\n",
        "    return 'Positive'\n",
        "\n",
        "df['Analysis'] = df['Polarity'].apply(getAnalysis)\n",
        "\n",
        "df"
      ],
      "execution_count": 8,
      "outputs": [
        {
          "output_type": "execute_result",
          "data": {
            "text/html": [
              "<div>\n",
              "<style scoped>\n",
              "    .dataframe tbody tr th:only-of-type {\n",
              "        vertical-align: middle;\n",
              "    }\n",
              "\n",
              "    .dataframe tbody tr th {\n",
              "        vertical-align: top;\n",
              "    }\n",
              "\n",
              "    .dataframe thead th {\n",
              "        text-align: right;\n",
              "    }\n",
              "</style>\n",
              "<table border=\"1\" class=\"dataframe\">\n",
              "  <thead>\n",
              "    <tr style=\"text-align: right;\">\n",
              "      <th></th>\n",
              "      <th>Tweets</th>\n",
              "      <th>Subjectivity</th>\n",
              "      <th>Polarity</th>\n",
              "      <th>Analysis</th>\n",
              "    </tr>\n",
              "  </thead>\n",
              "  <tbody>\n",
              "    <tr>\n",
              "      <th>0</th>\n",
              "      <td>We’ve made historic economic progress and crea...</td>\n",
              "      <td>0.463889</td>\n",
              "      <td>0.375000</td>\n",
              "      <td>Positive</td>\n",
              "    </tr>\n",
              "    <tr>\n",
              "      <th>1</th>\n",
              "      <td>Happy birthday, . I’m proud to call you a bro...</td>\n",
              "      <td>1.000000</td>\n",
              "      <td>0.800000</td>\n",
              "      <td>Positive</td>\n",
              "    </tr>\n",
              "    <tr>\n",
              "      <th>2</th>\n",
              "      <td>Workers shouldn’t just compete for jobs. Jobs ...</td>\n",
              "      <td>0.000000</td>\n",
              "      <td>0.000000</td>\n",
              "      <td>Neutral</td>\n",
              "    </tr>\n",
              "    <tr>\n",
              "      <th>3</th>\n",
              "      <td>We are prepared to deal with the surge in COV...</td>\n",
              "      <td>0.000000</td>\n",
              "      <td>0.000000</td>\n",
              "      <td>Neutral</td>\n",
              "    </tr>\n",
              "    <tr>\n",
              "      <th>4</th>\n",
              "      <td>It’s past time the super wealthy and profitabl...</td>\n",
              "      <td>0.704167</td>\n",
              "      <td>0.320833</td>\n",
              "      <td>Positive</td>\n",
              "    </tr>\n",
              "    <tr>\n",
              "      <th>...</th>\n",
              "      <td>...</td>\n",
              "      <td>...</td>\n",
              "      <td>...</td>\n",
              "      <td>...</td>\n",
              "    </tr>\n",
              "    <tr>\n",
              "      <th>195</th>\n",
              "      <td>The American Jobs Plan will ensure every Amer...</td>\n",
              "      <td>0.233333</td>\n",
              "      <td>0.122222</td>\n",
              "      <td>Positive</td>\n",
              "    </tr>\n",
              "    <tr>\n",
              "      <th>196</th>\n",
              "      <td>The American Jobs Plan is the largest American...</td>\n",
              "      <td>0.000000</td>\n",
              "      <td>0.000000</td>\n",
              "      <td>Neutral</td>\n",
              "    </tr>\n",
              "    <tr>\n",
              "      <th>197</th>\n",
              "      <td>Under the American Jobs Plan, 100% of our nati...</td>\n",
              "      <td>0.350000</td>\n",
              "      <td>0.183333</td>\n",
              "      <td>Positive</td>\n",
              "    </tr>\n",
              "    <tr>\n",
              "      <th>198</th>\n",
              "      <td>Wall Street didn’t build this country—the grea...</td>\n",
              "      <td>0.150000</td>\n",
              "      <td>0.160000</td>\n",
              "      <td>Positive</td>\n",
              "    </tr>\n",
              "    <tr>\n",
              "      <th>199</th>\n",
              "      <td>Delivering for the American people is what the...</td>\n",
              "      <td>0.000000</td>\n",
              "      <td>0.000000</td>\n",
              "      <td>Neutral</td>\n",
              "    </tr>\n",
              "  </tbody>\n",
              "</table>\n",
              "<p>200 rows × 4 columns</p>\n",
              "</div>"
            ],
            "text/plain": [
              "                                                Tweets  ...  Analysis\n",
              "0    We’ve made historic economic progress and crea...  ...  Positive\n",
              "1     Happy birthday, . I’m proud to call you a bro...  ...  Positive\n",
              "2    Workers shouldn’t just compete for jobs. Jobs ...  ...   Neutral\n",
              "3     We are prepared to deal with the surge in COV...  ...   Neutral\n",
              "4    It’s past time the super wealthy and profitabl...  ...  Positive\n",
              "..                                                 ...  ...       ...\n",
              "195   The American Jobs Plan will ensure every Amer...  ...  Positive\n",
              "196  The American Jobs Plan is the largest American...  ...   Neutral\n",
              "197  Under the American Jobs Plan, 100% of our nati...  ...  Positive\n",
              "198  Wall Street didn’t build this country—the grea...  ...  Positive\n",
              "199  Delivering for the American people is what the...  ...   Neutral\n",
              "\n",
              "[200 rows x 4 columns]"
            ]
          },
          "metadata": {
            "tags": []
          },
          "execution_count": 8
        }
      ]
    },
    {
      "cell_type": "code",
      "metadata": {
        "colab": {
          "base_uri": "https://localhost:8080/"
        },
        "id": "rx12vHGBUEJ0",
        "cellView": "form",
        "outputId": "2a3806ae-30d7-4d42-d865-d386d56904d5"
      },
      "source": [
        "#@title Positive Tweets\n",
        "# print all the positive tweets\n",
        "j = 1\n",
        "sortedDf = df.sort_values(by = ['Polarity'])\n",
        "\n",
        "for i in range(0, sortedDf.shape[0]):\n",
        "  if (sortedDf['Analysis'][i] == 'Positive'):\n",
        "    print(str(j) + ') ' + sortedDf['Tweets'][i])\n",
        "    print()\n",
        "    j = j + 1\n",
        "\n"
      ],
      "execution_count": 9,
      "outputs": [
        {
          "output_type": "stream",
          "text": [
            "1) We’ve made historic economic progress and created more jobs than any administration has done in the first six months of being in office.\n",
            " \n",
            "Now, we have a chance to turn this great movement into an economy that works for all Americans—not just the wealthy.\n",
            "\n",
            "2)  Happy birthday, . I’m proud to call you a brother and a friend — and I’m grateful for your selfless service to this…\n",
            "\n",
            "3) It’s past time the super wealthy and profitable corporations began paying their fair share. \n",
            "\n",
            "4) . are making historic, early strategic investments that are needed to elect Democrats in 2021, 2022, and onward.\n",
            "\n",
            "You can help us keep building back better and elect Democrats up and down the ballot by adding a grassroots donation today.\n",
            "\n",
            "\n",
            "5)  Today’s announcement makes clear that the most important protection we have against the Delta variant is the vaccine. Although m…\n",
            "\n",
            "6) You’re not gonna find anyone who knows how to get more done for Virginia than . \n",
            "\n",
            "7)  Today marks the 31st anniversary of the Americans with Disabilities Act — a landmark bill I proudly cosponsored in the Senate. W…\n",
            "\n",
            "8)  Folks the Delta variant is no joke. Please protect yourself and your loved ones – get vaccinated.\n",
            "\n",
            "9) . is running for governor of Virginia to create good-paying jobs, make health care more affordable, and give every child a world-class education. Tune in for our grassroots event. \n",
            "\n",
            "10) Six months in, our economic plan is working. \n",
            "\n",
            "11)  Since I took office six months ago, we’ve gone from 60,000 new jobs per month – to 60,000 every three days.\n",
            "\n",
            "That’s the fastest…\n",
            "\n",
            "12)  With the Delta variant on the rise across the country, it’s more important than ever to get vaccinated. Head to \n",
            "\n",
            "13)  Today is a historic day for our country. Because beginning this morning, nearly all working families started receiving their fir…\n",
            "\n",
            "14)  Thanks for stopping by, Olivia, and for using your voice to urge young people to get vaccinated. If we all do our part and get t…\n",
            "\n",
            "15) Let’s be clear: we’re going to vigorously challenge attacks on our elections. \n",
            "\n",
            "16)  Get vaccinated, folks. It’s free, it’s effective, and it’s never been easier or more important.\n",
            "\n",
            "17)  Let me be clear: capitalism without competition isn’t capitalism. It’s exploitation.\n",
            "\n",
            "18) On this day last year during the economic crisis, we announced we weren’t just going back to the way things were—we were going to build back better. \n",
            "\n",
            "Our work continues strengthening the middle class, ensuring everyone is dealt-in, and building a more climate-resilient nation.\n",
            "\n",
            "19) The sacred right to vote is under attack across the country. That’s why  are launching a first-of-its-kind voter protection effort. Tune in.\n",
            "\n",
            "\n",
            "20)  The fact is 12 years of education is no longer enough to compete in the 21st Century.\n",
            " \n",
            "That’s why my Build Back Better Agenda w…\n",
            "\n",
            "21)  We’re closer than ever to declaring our independence from COVID-19, but the fight is not over yet. Powerful strains like the Del…\n",
            "\n",
            "22) Over 300 million shots administered.\n",
            "Checks delivered to more than 169 million Americans.\n",
            "More than three million jobs added to the U.S. economy.\n",
            "\n",
            "We’ve come a long way. But this is just the beginning.\n",
            "\n",
            "23)  3 million jobs since we took office. \n",
            " \n",
            "Our economic plan is working.\n",
            "\n",
            "24) The science is clear: The best way to protect yourself against the virus and its variants is to be fully vaccinated. \n",
            "\n",
            "If you have not been vaccinated, get your COVID-19 shot as soon as possible. Now is not the time to let our guard down.\n",
            "\n",
            "25)  Today’s decision by the Supreme Court undercuts voting rights in this country — and makes it all the more crucial to pass the Fo…\n",
            "\n",
            "26) . are mobilizing volunteers and organizers, investing in state parties, fighting to protect voting rights, and more. If you can, consider chipping in to keep building the party infrastructure we need to win—from the school board to the Senate.\n",
            "\n",
            "\n",
            "27)  My heart is with the community of Surfside as they grieve their lost loved ones and wait anxiously as search and rescue efforts…\n",
            "\n",
            "28)  Here’s the deal: The Delta variant is more contagious, it’s deadlier, and it’s spreading quickly around the world – leaving youn…\n",
            "\n",
            "29) It’s a simple proposition: Who do you love? \n",
            "\n",
            "30)  We can’t sit idly by while democracy is in peril – here, in America. We need to protect the sacred right to vote and ensure “We…\n",
            "\n",
            "31)  The Child Tax Credit means help directly in the bank accounts of the families who need it. Nearly all working families will auto…\n",
            "\n",
            "32)  Happy Father's Day to the fathers, stepfathers, grandfathers, and father figures who enrich our character, love us unconditional…\n",
            "\n",
            "33) To honor the true meaning of Juneteenth, we have to continue toward that promise of equality for all. \n",
            "\n",
            "34) We're on the right track. The American Rescue Plan laid a strong foundation for a new economy that brings everybody along, but it's just the first step. We must pass the American Jobs Plan to build an economy that works for everyone.\n",
            "\n",
            "35) We’re seeing a coordinated attack on voting rights in this country. It’s Jim Crow in the 21st century, and it must end.\n",
            "\n",
            "Congress must enact legislation to make it easier for all eligible Americans to access the ballot box and prevent attacks on the sacred right to vote.\n",
            "\n",
            "36) Democracy thrives when the infrastructure of democracy is strong; when people have the right to vote freely, fairly, and conveniently; when a free and independent press pursues the truth; when the law applies equally to everyone, regardless of who they are or what they look like.\n",
            "\n",
            "37)  The Transatlantic Alliance is the strong foundation on which our collective security and our shared prosperity are built. It’s a…\n",
            "\n",
            "38) The COVID-19 vaccine is free, but lack of access to child care can be a barrier. That’s why four of our nation’s largest child care providers are offering free care for parents and caregivers getting vaccinated from now until July 4: \n",
            "\n",
            "39) COVID-19 vaccines are free. Get vaccinated, folks.\n",
            "\n",
            "40)  On my first foreign trip, we’re going to make it clear — the United States and the democracies of the world are standing togethe…\n",
            "\n",
            "41) LGBTQ+ rights are human rights. As we celebrate this month, we won’t rest until full equality for LGBTQ+ Americans is finally achieved and codified into law. The Senate must pass the Equality Act.\n",
            "\n",
            "42)  I’m on my way to the U.K. and Europe today for the first foreign trip of my presidency. I know that democracies can rally togeth…\n",
            "\n",
            "43) We said from the very beginning: there’s no chance for our economy to come back unless we beat the pandemic. And now, after more than a year of darkness, we’re emerging into the light.\n",
            "\n",
            "Get your vaccine and do your part to help get our country back on track.\n",
            "\n",
            "44)  Folks, the Delta variant — a highly infectious COVID-19 strain — is spreading rapidly among young people between 12 and 20 years…\n",
            "\n",
            "45) In the competition for the 21st century, the future will be built right here in America.\n",
            "\n",
            "46)  Great news folks: we hit record-high health care enrollment. 31 million people now have coverage through the Affordable Care Act…\n",
            "\n",
            "47) Now is the time to build on the foundation we've laid. Because while the progress we’ve made is undeniable, it is not assured. That's why we need the American Jobs Plan and the American Families Plan—let's make those investments today to be able to continue to succeed tomorrow.\n",
            "\n",
            "48) This is the United States of America. There's not a single thing beyond our capacity when we act together.\n",
            "\n",
            "49) It’s going to take everyone working together to get 70% of adult Americans vaccinated. \n",
            "\n",
            "50)  Today, we are announcing a month-long effort to get 70% of adult Americans vaccinated. It will take everyone doing their part so…\n",
            "\n",
            "51) Congratulations to Congresswoman-elect  on your victory last night. Your grit and determination will help deliver real results for all New Mexicans. NM01 is in good hands.\n",
            "\n",
            "52) Grassroots supporters made it possible for us to pass the American Rescue Plan and start getting our country back on track—but our work is far from over. Please consider chipping in to support Democrats running for office in 2021, 2022, and beyond.\n",
            "\n",
            "\n",
            "53) Before we took office, the economy added back 60,000 jobs per month. It’s now adding back 500,000 jobs per month.\n",
            "\n",
            "In fact, we've created 1.5 million jobs—more jobs than have ever been created in the first three months of any president in our nation's history.\n",
            "\n",
            "54)  America is on the move again. We’ve turned the tide on a once-in-a-century pandemic and a once-in-a-generation economic crisis.…\n",
            "\n",
            "55) The Biden economic plan is working. \n",
            "\n",
            "56)  Tune in as I deliver remarks on our economic progress and share my vision for the future. \n",
            "\n",
            "57)  We are still awaiting many of the details of this latest mass shooting in San Jose, but there are some things we know for sure.…\n",
            "\n",
            "58) Enjoyed meeting with Maria and Dreamers this month. Dreamers are Americans, and we are fighting for them. \n",
            "\n",
            "59)  It’s been one year since George Floyd was murdered. In that time, George’s family has shown extraordinary courage. Last month’s…\n",
            "\n",
            "60) After meeting with experts and scientists, our administration has set an ambitious goal of having 70% of the U.S. adult population receive at least one dose of vaccine by July 4. \n",
            "\n",
            "It’s a big goal, but we are already doing a remarkable job—together, we’ll get through this.\n",
            "\n",
            "61) More than 20,000 pharmacies coast to coast are now offering walk-in vaccinations with no appointment necessary. Find a location near you at \n",
            "\n",
            "62) There are millions of Americans who, through no fault of their own, have been knocked flat on their back this past year. We’re determined to give them a fighting chance. That’s why we’ve been focused on vaccinating the nation and getting our economy running again.\n",
            "\n",
            "63) Our country is moving in the right direction, but there’s still work to do to dig our way out of an economic collapse.\n",
            "\n",
            "We must pass the American Jobs Plan to create millions of good-paying jobs rebuilding our country’s infrastructure.\n",
            "\n",
            "64) Text your ZIP code to 438829 to find COVID-19 vaccination locations near you.\n",
            "\n",
            "65)  Being at Ford’s Rouge Electric Vehicle Center today brought me home. For more than thirty years, my Dad managed car dealerships…\n",
            "\n",
            "66) Help spread the word: From May 24 until July 4, Uber and Lyft will offer everyone in America free rides to and from COVID-19 vaccination sites.\n",
            "\n",
            "67) The light at the end of the tunnel is growing brighter every day. \n",
            "\n",
            "68)  On this International Day Against Homophobia, Transphobia, and Biphobia, the message from the United States is clear: everyone d…\n",
            "\n",
            "69)  I know folks have a lot of questions about COVID-19, the vaccines, and the latest mask guidance. So, we had the nation’s top exp…\n",
            "\n",
            "70) This was made possible by the extraordinary success we’ve had in vaccinating so many Americans, so quickly. \n",
            "\n",
            "71) Getting vaccinated is easier than ever. You can find a vaccine site near you by texting your ZIP code to 438829.\n",
            "\n",
            "72) Today is a great day for America in our long battle with COVID-19. \n",
            "\n",
            "Just a few hours ago, the CDC announced they are no longer recommending that fully vaccinated people need to wear masks.\n",
            "\n",
            "73)  Big news from the CDC: If you’re fully vaccinated, you do not need to wear a mask – indoors or outdoors, in most settings.…\n",
            "\n",
            "74)  My Administration has mobilized a whole-of-government response to get more fuel quickly and safely to where it is needed and to…\n",
            "\n",
            "75) Getting a COVID-19 vaccine has never been easier. Go to  to find a location near you.\n",
            "\n",
            "76)  Tomorrow we will cross 250 million vaccine shots administered since we took office. \n",
            "\n",
            "It’s a truly remarkable achievement for th…\n",
            "\n",
            "77) We’re vaccinating the nation. We’re creating hundreds of thousands of jobs. We’re delivering real results people can see and feel in their own lives.\n",
            "  \n",
            "That’s the essence of America. That’s democracy in action.\n",
            "\n",
            "78) The American Families Plan addresses four of the biggest challenges facing American families:\n",
            "✅Access to a good education, including universal Pre-K\n",
            "✅Quality, affordable child care\n",
            "✅Up to 12 weeks of paid family and medical leave\n",
            "✅Money directly into the pockets of families\n",
            "\n",
            "79) To moms everywhere, wishing you a safe and happy Mother’s Day. \n",
            "\n",
            "Share your favorite quote from your mother below. \n",
            "\n",
            "80) Nearly 90% of the infrastructure jobs created in the American Jobs Plan don't require a college degree. It’s a blue-collar blueprint to build America.\n",
            "\n",
            "81)  I am proud of the people I go to work with at the White House every day — but my pride can’t hold a candle to that of their moth…\n",
            "\n",
            "82) Since the beginning of our administration, the economy has added more than 1.5 million jobs. \n",
            "\n",
            "We’ve still got work to do, but America is moving in the right direction. \n",
            "\n",
            "83)  Teachers are an extraordinary force for good in our nation — I’m lucky enough to be married to one and have seen firsthand how h…\n",
            "\n",
            "84) America is on the move again. \n",
            "\n",
            "We are choosing hope over fear. \n",
            "Truth over lies. \n",
            "Light over darkness. \n",
            "\n",
            "There’s nothing we cannot do if we do it together.\n",
            "\n",
            "85) We’ve never been more optimistic about the future of America. \n",
            "\n",
            "86) In Georgia with  to celebrate the successes of the first 100 days of the Biden-Harris administration. Jobs are coming back, folks are getting vaccinated, and better days are ahead. Tune in. \n",
            "\n",
            "\n",
            "87)  If we are to truly restore the soul of America, then we need to protect the sacred right to vote.\n",
            "\n",
            "Congress should pass H.R. 1 a…\n",
            "\n",
            "88) Together, we’re getting back on track. Tune in now for our administration’s first joint address to Congress. \n",
            "\n",
            "89)  To make tonight’s joint address accessible for all Americans, every White House livestream will have American Sign Language (ASL…\n",
            "\n",
            "90) With the first 100 days of our administration under our belt, America is getting back on track—all thanks to the support of grassroots volunteers. Help us keep the momentum going by joining our Week of Action: \n",
            "\n",
            "91)  I believe no one should work full time and still live in poverty. That’s why today, I raised the minimum wage to $15 an hour for…\n",
            "\n",
            "92)  Today, we’re launching a new program funded by the American Rescue Plan to provide nutrition assistance to more than 30 million…\n",
            "\n",
            "93)  Just as India sent assistance to the United States as our hospitals were strained early in the pandemic, we are determined to he…\n",
            "\n",
            "94)  Before I took office, I promised help was on the way. Just three months in, I’m proud to say help is here. We’ve delivered over…\n",
            "\n",
            "95) Let’s close the digital divide once and for all. Our American Jobs Plan will make sure every American has access to high-speed internet. \n",
            "\n",
            "96) Heading back to Georgia with  next Thursday to mark 100 days of our administration and thank folks for helping us build back better as a nation. See you soon!\n",
            "\n",
            "97)  Before taking office, President Biden set a bold goal of 100 million shots in his first 100 days.\n",
            " \n",
            "After reaching the goal…\n",
            "\n",
            "98)  America is back. We rejoined the Paris Agreement and are ready to rally the world to tackle the climate crisis. Let’s do this.\n",
            "\n",
            "99)  Live: President Biden and Vice President Harris address the nation on the verdict in the trial of Derek Chauvin. \n",
            "\n",
            "100) Today, every adult is eligible to get a COVID-19 vaccine. Better days are ahead.\n",
            "\n",
            "101)  I’m looking forward to welcoming my friend Prime Minister Suga to the White House this afternoon for the first foreign leader vi…\n",
            "\n",
            "102)  We continue to make progress in our work to vaccinate as many adults in this country as we can. Our current 7-day dail…\n",
            "\n",
            "103)  Race should never determine health outcomes — and pregnancy and childbirth should be safe for all. But for too many Black women,…\n",
            "\n",
            "104)  More than 112 million Americans have received at least one dose and more than 66 million adult Americans are now fully…\n",
            "\n",
            "105)  Today, I’m joining Vice President Harris and Attorney General Garland to announce new actions to reduce gun violence. Tune in. h…\n",
            "\n",
            "106)  Clean drinking water is infrastructure. The American Jobs Plan will improve our water infrastructure by replacing 100% of t…\n",
            "\n",
            "107)  I’m proud to share that yesterday, we crossed 150 million shots in just 75 days of my Administration — on our way to hitting our…\n",
            "\n",
            "108)  Here’s the deal: Wall Street didn’t build this country — the great American middle class did. It’s time we rebuild the middle cl…\n",
            "\n",
            "109)  From our family to yours, we wish you health, hope, joy, and peace. Happy Easter, everyone! \n",
            "\n",
            "110)  The American Jobs Plan will ensure every American can turn on the faucet or fountain and drink clean water. \n",
            "\n",
            "111) Under the American Jobs Plan, 100% of our nation’s lead pipes and service lines will be replaced—so every child in America can turn on the faucet or fountain and drink clean water. \n",
            "\n",
            "We cannot delay another minute.\n",
            "\n",
            "112) Wall Street didn’t build this country—the great American middle class did. This time, when we rebuild the middle class under the American Jobs Plan, we’re bringing everyone along.\n",
            "\n"
          ],
          "name": "stdout"
        }
      ]
    },
    {
      "cell_type": "code",
      "metadata": {
        "colab": {
          "base_uri": "https://localhost:8080/"
        },
        "id": "tJPN7r3GVS5x",
        "cellView": "form",
        "outputId": "7610c5f7-27d9-4e0e-ad8b-15fd9bcefb00"
      },
      "source": [
        "#@title Negative Tweets\n",
        "# print all the negative tweets\n",
        "j = 1\n",
        "sortedDF = df.sort_values(by = ['Polarity'], ascending = 'False')\n",
        "\n",
        "for i in range(0, sortedDF.shape[0]):\n",
        "  if (sortedDF['Analysis'][i] == 'Negative'):\n",
        "    print(str(j) + ') ' + sortedDF['Tweets'][i])\n",
        "    print()\n",
        "    j = j + 1"
      ],
      "execution_count": 10,
      "outputs": [
        {
          "output_type": "stream",
          "text": [
            "1)  I condemn the mass detentions and sham trials that are the Cuban regime's efforts to threaten the Cuban people into silence. My…\n",
            "\n",
            "2)  Yesterday’s Federal court ruling is deeply disappointing. While the court’s order does not now affect current DACA recipients, t…\n",
            "\n",
            "3) Together, we are going to build an economy that rewards work—not just wealth. An economy that works for the backbone of this country: the people who get up every single day to work hard to provide for their families, who are just looking for a little bit of breathing room.\n",
            "\n",
            "4)  Today we passed a grim milestone: 600,000 lives lost from COVID-19. My heart goes out to all those who’ve lost a loved one. I kn…\n",
            "\n",
            "5) The pandemic exposed just how badly we need to invest in the foundation of our country, and in the working people of our country. That's why we proposed the American Jobs Plan—we need to make generational investments today to succeed tomorrow.\n",
            "\n",
            "6)  Today, I’m announcing that the United States will donate half a billion new Pfizer vaccines to 92 low- and lower middle-income c…\n",
            "\n",
            "7)  Unemployment claims are down 50% and 64% of adults are vaccinated since I took office. That’s progress. \n",
            "\n",
            "8)  100 years ago, the thriving Black community of Greenwood in Tulsa, Oklahoma was ruthlessly attacked by a white supremacist mob—a…\n",
            "\n",
            "9) This is our moment to rebuild an economy from the bottom up and the middle out—not trickle down.\n",
            "\n",
            "This is our moment to rebuild an economy that rewards work, not just wealth.\n",
            "\n",
            "This is our moment to rebuild an economy that works for the backbone of this country.\n",
            "\n",
            "10) Across the country, we have failed to properly invest in infrastructure for half a century. The American Jobs Plan will get millions of Americans good-paying union jobs repairing our country’s crumbling infrastructure.\n",
            "\n",
            "It’s a blue-collar blueprint to rebuild America.\n",
            "\n",
            "11)  Incidents of hate against Asian Americans have seen a shocking spike over the last year. It’s wrong — and it’s un-American.\n",
            " \n",
            "To…\n",
            "\n",
            "12) After a year of hard work and so much sacrifice, the rule is now simple: get vaccinated or wear a mask until you do.\n",
            "\n",
            "13)  We’re working hard to ensure transportation is less of a barrier when it comes to getting a COVID-19 vaccine. And I’m excited to…\n",
            "\n",
            "14)  This has been an extraordinarily tough year for moms across this country. To all the moms who have carried us through this pande…\n",
            "\n",
            "15)  This week we launched the Restaurant Revitalization Fund to provide direct relief to restaurants and other hard-hit food es…\n",
            "\n",
            "16)  Our goal by July 4th is to have 70% of adult Americans with at least one shot — and 160 million Americans fully vaccinated. It’s…\n",
            "\n",
            "17)  The guilty verdict does not bring back George Floyd. But through the family’s pain, they are finding purpose so George’s legacy…\n",
            "\n",
            "18)  Today, a jury in Minnesota found former Minneapolis Police Officer Derek Chauvin guilty of murdering George Floyd.\n",
            " \n",
            "The verdict…\n",
            "\n",
            "19)  “When the will defies fear, when duty throws the gauntlet down to fate, when honor scorns to compromise with death — that is her…\n",
            "\n",
            "20)  Today I’m thinking about Daunte Wright and his family — and the pain, anger, and trauma that Black America experiences every day…\n",
            "\n",
            "21)  Gun violence in this country is an epidemic — and it’s long past time Congress take action.\n",
            "\n"
          ],
          "name": "stdout"
        }
      ]
    },
    {
      "cell_type": "code",
      "metadata": {
        "colab": {
          "base_uri": "https://localhost:8080/"
        },
        "id": "-6-5iM8rXtEZ",
        "cellView": "form",
        "outputId": "cff18eea-f4be-4850-fcf2-0de61f14fd5e"
      },
      "source": [
        "#@title Percentage of Posiitve Tweets\n",
        "# Get the % of positive tweets\n",
        "ptweets = df[df.Analysis == 'Positive']\n",
        "ptweets = ptweets['Tweets']\n",
        "\n",
        "round((ptweets.shape[0] / df.shape[0]) * 100, 1)"
      ],
      "execution_count": 11,
      "outputs": [
        {
          "output_type": "execute_result",
          "data": {
            "text/plain": [
              "56.0"
            ]
          },
          "metadata": {
            "tags": []
          },
          "execution_count": 11
        }
      ]
    },
    {
      "cell_type": "code",
      "metadata": {
        "colab": {
          "base_uri": "https://localhost:8080/"
        },
        "id": "aUi2va3-Zr63",
        "cellView": "form",
        "outputId": "809a817d-2a98-4322-c024-d07dd64801b8"
      },
      "source": [
        "#@title Percentage of Negative Tweets\n",
        "# Get the % of negative tweets\n",
        "ntweets = df[df.Analysis == 'Negative']\n",
        "ntweets = ntweets['Tweets']\n",
        "\n",
        "round((ntweets.shape[0] / df.shape[0]) * 100, 1)"
      ],
      "execution_count": 12,
      "outputs": [
        {
          "output_type": "execute_result",
          "data": {
            "text/plain": [
              "10.5"
            ]
          },
          "metadata": {
            "tags": []
          },
          "execution_count": 12
        }
      ]
    },
    {
      "cell_type": "code",
      "metadata": {
        "colab": {
          "base_uri": "https://localhost:8080/"
        },
        "id": "mxnjFq--aazs",
        "cellView": "form",
        "outputId": "5ca4c2e9-d5e7-43e3-f3ac-5fa8d884fd18"
      },
      "source": [
        "#@title Percentage of Neutral Tweets\n",
        "# Get the % of neutral tweets\n",
        "netweets = df[df.Analysis == 'Neutral']\n",
        "netweets = netweets['Tweets']\n",
        "\n",
        "round((netweets.shape[0] / df.shape[0]) * 100, 1)"
      ],
      "execution_count": 13,
      "outputs": [
        {
          "output_type": "execute_result",
          "data": {
            "text/plain": [
              "33.5"
            ]
          },
          "metadata": {
            "tags": []
          },
          "execution_count": 13
        }
      ]
    },
    {
      "cell_type": "code",
      "metadata": {
        "colab": {
          "base_uri": "https://localhost:8080/",
          "height": 422
        },
        "id": "rUV4uYBNXcM9",
        "cellView": "form",
        "outputId": "4c18a3e9-c8b5-4ec2-f846-706dec63f345"
      },
      "source": [
        "#@title Plot of Subjectivity and Polarity\n",
        "# plot the polarity and subjectivity\n",
        "plt.figure(figsize=(8,6))\n",
        "for i in range (0, df.shape[0]):\n",
        "  plt.scatter(df['Polarity'][i], df['Subjectivity'][i], color = 'Blue')\n",
        "\n",
        "plt.title('Sentiment Analysis')\n",
        "plt.xlabel('Polarity')\n",
        "plt.ylabel('Subjectivity')\n",
        "plt.show"
      ],
      "execution_count": 14,
      "outputs": [
        {
          "output_type": "execute_result",
          "data": {
            "text/plain": [
              "<function matplotlib.pyplot.show>"
            ]
          },
          "metadata": {
            "tags": []
          },
          "execution_count": 14
        },
        {
          "output_type": "display_data",
          "data": {
            "image/png": "[encoded data removed]",
            "text/plain": [
              "<Figure size 576x432 with 1 Axes>"
            ]
          },
          "metadata": {
            "tags": [],
            "needs_background": "light"
          }
        }
      ]
    },
    {
      "cell_type": "code",
      "metadata": {
        "colab": {
          "base_uri": "https://localhost:8080/",
          "height": 331
        },
        "id": "9UTSn0kfak9M",
        "cellView": "form",
        "outputId": "1a826a7e-6527-4d90-8dae-1a9396db6bd2"
      },
      "source": [
        "#@title Graph of Positive, Negative and Neutral Tweets\n",
        "# Show the value counts\n",
        "df['Analysis'].value_counts()\n",
        "\n",
        "# plot and visualize the counts\n",
        "plt.title('Sentiment Analysis')\n",
        "plt.xlabel('Sentiment')\n",
        "plt.ylabel('Counts')\n",
        "df['Analysis'].value_counts().plot(kind='bar')\n",
        "plt.show()\n"
      ],
      "execution_count": 15,
      "outputs": [
        {
          "output_type": "display_data",
          "data": {
            "image/png": "[encoded data removed]",
            "text/plain": [
              "<Figure size 432x288 with 1 Axes>"
            ]
          },
          "metadata": {
            "tags": [],
            "needs_background": "light"
          }
        }
      ]
    },
    {
      "cell_type": "code",
      "metadata": {
        "colab": {
          "base_uri": "https://localhost:8080/",
          "height": 248
        },
        "cellView": "form",
        "id": "vfDj3luxZZoP",
        "outputId": "f6c7ca4a-2424-49a8-e1ca-d14df42c63e2"
      },
      "source": [
        "#@title\n",
        "df['Analysis'].value_counts().plot(kind='pie')\n",
        "plt.show()"
      ],
      "execution_count": 16,
      "outputs": [
        {
          "output_type": "display_data",
          "data": {
            "image/png": "[encoded data removed]",
            "text/plain": [
              "<Figure size 432x288 with 1 Axes>"
            ]
          },
          "metadata": {
            "tags": []
          }
        }
      ]
    }
  ]
}